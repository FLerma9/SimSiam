{
 "cells": [
  {
   "cell_type": "code",
   "execution_count": null,
   "id": "1fd42634",
   "metadata": {},
   "outputs": [],
   "source": [
    "import torch\n",
    "import os\n",
    "import torchvision\n",
    "from torch import nn\n",
    "import torchvision.models as models\n",
    "from torchvision.models import resnet34, vgg13, alexnet, squeezenet1_1, mobilenet_v2\n",
    "from torchvision import datasets\n",
    "import torchvision.transforms as transforms\n",
    "import neptune.new as neptune\n",
    "import torch.optim as optim\n",
    "import simsiam.loader\n",
    "import time\n",
    "from torch.backends import cudnn\n",
    "import numpy as np\n",
    "import random"
   ]
  },
  {
   "cell_type": "markdown",
   "id": "85e3ca1e",
   "metadata": {},
   "source": [
    "Hiper-parámetros que tiene que definir el usuario"
   ]
  },
  {
   "cell_type": "code",
   "execution_count": null,
   "id": "f41d238e",
   "metadata": {},
   "outputs": [],
   "source": [
    "arch = 'mobilenet_v2' #Opciones: resnet34, mobilenet_v2, alexnet, vgg13 y squeezenet1_1\n",
    "dataset = 'ImageWoof' #Nombre del dataset\n",
    "train_path = 'ImageWoof/train' #Path del dataset con las imágenes de train\n",
    "val_path = 'ImageWoof/val' #Path del dataset con las imágenes de val\n",
    "model_path = 'Classifier_Checkpoints/ImageWoof/Mobilenet/' #Path donde se querrá guardar el modelo\n",
    "weight_decay = 0.00004\n",
    "momentum = 0.9\n",
    "n_epochs = 300 #Número de epocas\n",
    "init_lr = 0.045 #Learning rate inicial\n",
    "batch_size = 64\n",
    "lr_scheduler = 'linear' #Como decrecer el lr. Opciones: '', 'linear', 'plateau', '98'\n",
    "nombre = 'SupervisedImageWoofMobilenetV2' #Nombre del experimento\n",
    "gpu = 0 #Número de la gpu donde realizar el experimento"
   ]
  },
  {
   "cell_type": "markdown",
   "id": "748b8e8c",
   "metadata": {},
   "source": [
    "Código"
   ]
  },
  {
   "cell_type": "code",
   "execution_count": null,
   "id": "363b1d9a",
   "metadata": {},
   "outputs": [],
   "source": [
    "device = 'cuda' if torch.cuda.is_available() else 'cpu'\n",
    "print(device)"
   ]
  },
  {
   "cell_type": "code",
   "execution_count": null,
   "id": "534819e6",
   "metadata": {},
   "outputs": [],
   "source": [
    "def adjust_learning_rate(optimizer, init_lr, epoch, n_epochs, lr_scheduler):\n",
    "    if lr_scheduler == 'linear':\n",
    "        cur_lr = -(init_lr/n_epochs)*epoch + init_lr\n",
    "    elif lr_scheduler == '98':\n",
    "        cur_lr = init_lr*pow(0.98, epoch)\n",
    "    else:\n",
    "        cur_lr = init_lr\n",
    "    for param_group in optimizer.param_groups:\n",
    "            param_group['lr'] = cur_lr"
   ]
  },
  {
   "cell_type": "code",
   "execution_count": null,
   "id": "d9773933",
   "metadata": {},
   "outputs": [],
   "source": [
    "def get_backbone(backbone_name):\n",
    "        return {'resnet34': resnet34(num_classes=10),\n",
    "                'alexnet': alexnet(num_classes=10),\n",
    "                'squeezenet1_1': squeezenet1_1(num_classes=10),\n",
    "                'mobilenet_v2': mobilenet_v2(num_classes=10),\n",
    "                'vgg13': vgg13(num_classes=10)}[backbone_name]"
   ]
  },
  {
   "cell_type": "code",
   "execution_count": null,
   "id": "0c815c5a",
   "metadata": {},
   "outputs": [],
   "source": [
    "class ProgressMeter(object):\n",
    "    def __init__(self, num_batches, meters, prefix=\"\"):\n",
    "        self.batch_fmtstr = self._get_batch_fmtstr(num_batches)\n",
    "        self.meters = meters\n",
    "        self.prefix = prefix\n",
    "\n",
    "    def display(self, batch):\n",
    "        entries = [self.prefix + self.batch_fmtstr.format(batch)]\n",
    "        entries += [str(meter) for meter in self.meters]\n",
    "        print('\\t'.join(entries))\n",
    "\n",
    "    def _get_batch_fmtstr(self, num_batches):\n",
    "        num_digits = len(str(num_batches // 1))\n",
    "        fmt = '{:' + str(num_digits) + 'd}'\n",
    "        return '[' + fmt + '/' + fmt.format(num_batches) + ']'"
   ]
  },
  {
   "cell_type": "code",
   "execution_count": null,
   "id": "02ffc402",
   "metadata": {},
   "outputs": [],
   "source": [
    "class AverageMeter(object):\n",
    "    \"\"\"Computes and stores the average and current value\"\"\"\n",
    "    def __init__(self, name, fmt=':f'):\n",
    "        self.name = name\n",
    "        self.fmt = fmt\n",
    "        self.val = 0\n",
    "        self.avg = 0\n",
    "        self.sum = 0\n",
    "        self.count = 0\n",
    "        self.reset()\n",
    "\n",
    "    def reset(self):\n",
    "        self.val = 0\n",
    "        self.avg = 0\n",
    "        self.sum = 0\n",
    "        self.count = 0\n",
    "\n",
    "    def update(self, val, n=1):\n",
    "        self.val = val\n",
    "        self.sum += val * n\n",
    "        self.count += n\n",
    "        self.avg = self.sum / self.count\n",
    "\n",
    "    def __str__(self):\n",
    "        fmtstr = '{name} {val' + self.fmt + '} ({avg' + self.fmt + '})'\n",
    "        return fmtstr.format(**self.__dict__)"
   ]
  },
  {
   "cell_type": "code",
   "execution_count": null,
   "id": "b659c82b",
   "metadata": {},
   "outputs": [],
   "source": [
    "def accuracy(output, target, topk=(1,)):\n",
    "    \"\"\"Computes the accuracy over the k top predictions for the specified values of k\"\"\"\n",
    "    with torch.no_grad():\n",
    "        maxk = max(topk)\n",
    "        batch_size = target.size(0)\n",
    "\n",
    "        _, pred = output.topk(maxk, 1, True, True)\n",
    "        pred = pred.t()\n",
    "        correct = pred.eq(target.view(1, -1).expand_as(pred))\n",
    "\n",
    "        res = []\n",
    "        for k in topk:\n",
    "            correct_k = correct[:k].reshape(-1).float().sum(0, keepdim=True)\n",
    "            res.append(correct_k.mul_(100.0 / batch_size))\n",
    "        return res"
   ]
  },
  {
   "cell_type": "code",
   "execution_count": null,
   "id": "0eddaf9c",
   "metadata": {},
   "outputs": [],
   "source": [
    "def train(train_loader, model, criterion, optimizer, epoch):\n",
    "    batch_time = AverageMeter('Time', ':6.3f')\n",
    "    data_time = AverageMeter('Data', ':6.3f')\n",
    "    losses = AverageMeter('Loss', ':.4e')\n",
    "    top1 = AverageMeter('Acc@1', ':6.2f')\n",
    "    top5 = AverageMeter('Acc@5', ':6.2f')\n",
    "    progress = ProgressMeter(\n",
    "        len(train_loader),\n",
    "        [batch_time, data_time, losses, top1, top5],\n",
    "        prefix=\"Epoch: [{}]\".format(epoch))\n",
    "    \n",
    "    model.train(True)\n",
    "    end = time.time()\n",
    "    for i, (inputs, labels) in enumerate(train_loader):\n",
    "        data_time.update(time.time() - end)\n",
    "        \n",
    "        inputs = inputs.cuda(0, non_blocking=True)\n",
    "        labels = labels.cuda(0, non_blocking=True)\n",
    "\n",
    "        # compute output\n",
    "        outputs = model(inputs)\n",
    "        loss = criterion(outputs, labels)\n",
    "\n",
    "        # measure accuracy and record loss\n",
    "        acc1, acc5 = accuracy(outputs, labels, topk=(1, 5))\n",
    "        losses.update(loss.item(), inputs.size(0))\n",
    "        top1.update(acc1[0], inputs.size(0))\n",
    "        top5.update(acc5[0], inputs.size(0))\n",
    "\n",
    "        # compute gradient and do SGD step\n",
    "        optimizer.zero_grad()\n",
    "        loss.backward()\n",
    "        optimizer.step()\n",
    "        \n",
    "        # measure elapsed time\n",
    "        batch_time.update(time.time() - end)\n",
    "        end = time.time()\n",
    "        if i % 10 == 0:\n",
    "            progress.display(i)\n",
    "    \n",
    "    return losses.avg, top1.avg, top5.avg"
   ]
  },
  {
   "cell_type": "code",
   "execution_count": null,
   "id": "6d826090",
   "metadata": {},
   "outputs": [],
   "source": [
    "def validate(val_loader, model, criterion):\n",
    "    batch_time = AverageMeter('Time', ':6.3f')\n",
    "    losses = AverageMeter('Loss', ':.4e')\n",
    "    top1 = AverageMeter('Acc@1', ':6.2f')\n",
    "    top5 = AverageMeter('Acc@5', ':6.2f')\n",
    "    progress = ProgressMeter(\n",
    "        len(val_loader),\n",
    "        [batch_time, losses, top1, top5],\n",
    "        prefix='Test: ')\n",
    "\n",
    "    # switch to evaluate mode\n",
    "    model.eval()\n",
    "    with torch.no_grad():\n",
    "        end = time.time()\n",
    "        for i, (inputs, labels) in enumerate(val_loader):\n",
    "            inputs = inputs.cuda(0, non_blocking=True)\n",
    "            labels = labels.cuda(0, non_blocking=True)\n",
    "\n",
    "            # compute output\n",
    "            outputs = model(inputs)\n",
    "            loss = criterion(outputs, labels)\n",
    "\n",
    "            # measure accuracy and record loss\n",
    "            acc1, acc5 = accuracy(outputs, labels, topk=(1, 5))\n",
    "            losses.update(loss.item(), inputs.size(0))\n",
    "            top1.update(acc1[0], inputs.size(0))\n",
    "            top5.update(acc5[0], inputs.size(0))\n",
    "\n",
    "            # measure elapsed time\n",
    "            batch_time.update(time.time() - end)\n",
    "            end = time.time()\n",
    "\n",
    "        # TODO: this should also be done with the ProgressMeter\n",
    "        print(' * Acc@1 {top1.avg:.3f} Acc@5 {top5.avg:.3f}'\n",
    "              .format(top1=top1, top5=top5))\n",
    "    return losses.avg, top1.avg, top5.avg"
   ]
  },
  {
   "cell_type": "code",
   "execution_count": null,
   "id": "e21ed279",
   "metadata": {},
   "outputs": [],
   "source": [
    "model = get_backbone(arch)\n",
    "criterion = nn.CrossEntropyLoss().cuda(0)\n",
    "optimizer = optim.SGD(model.parameters(), lr=init_lr, momentum=momentum, weight_decay=weight_decay)\n",
    "if lr_scheduler == 'plateau':\n",
    "    scheduler = optim.lr_scheduler.ReduceLROnPlateau(optimizer, factor = 0.1, min_lr=0.001)\n",
    "if gpu is not None:\n",
    "    torch.cuda.set_device(gpu)\n",
    "    model = model.cuda(gpu)\n",
    "    cudnn.benchmark = True\n",
    "print(model)"
   ]
  },
  {
   "cell_type": "code",
   "execution_count": null,
   "id": "db6cd8d6",
   "metadata": {},
   "outputs": [],
   "source": [
    "transform_train = transforms.Compose(\n",
    "    [transforms.RandomResizedCrop(224),\n",
    "     transforms.RandomHorizontalFlip(),\n",
    "     transforms.ColorJitter(0.4,0.4,0.4,0.1),\n",
    "     transforms.ToTensor(),\n",
    "     transforms.Normalize(mean=[0.485, 0.456, 0.406], std=[0.229, 0.224, 0.225])\n",
    "    ])\n",
    "transform_val = transforms.Compose(\n",
    "    [transforms.Resize((256,256)),\n",
    "     transforms.CenterCrop(224),\n",
    "     transforms.ToTensor(),\n",
    "     transforms.Normalize(mean=[0.485, 0.456, 0.406], std=[0.229, 0.224, 0.225])])"
   ]
  },
  {
   "cell_type": "code",
   "execution_count": null,
   "id": "6ae5659a",
   "metadata": {},
   "outputs": [],
   "source": [
    "train_set = datasets.ImageFolder(train_path, transform=transform_train)\n",
    "train_loader = torch.utils.data.DataLoader(train_set, batch_size=batch_size, shuffle=True, num_workers=4, pin_memory=True)\n",
    "val_set = datasets.ImageFolder(val_path, transform=transform_val)\n",
    "val_loader = torch.utils.data.DataLoader(val_set, batch_size=batch_size, shuffle=False, num_workers=4, pin_memory=True)"
   ]
  },
  {
   "cell_type": "code",
   "execution_count": null,
   "id": "26c87aeb",
   "metadata": {},
   "outputs": [],
   "source": [
    "best_val_top1 = 0.\n",
    "best_val_top5 = 0.\n",
    "torch.cuda.empty_cache()\n",
    "for epoch in range(n_epochs):\n",
    "    adjust_learning_rate(optimizer, init_lr, epoch, n_epochs, lr_scheduler)\n",
    "    train_loss, train_top1, train_top5 = train(train_loader, model, criterion, optimizer, epoch)\n",
    "    val_loss, val_top1, val_top5 = validate(val_loader, model, criterion)  \n",
    "    if val_top1 > best_val_top1:\n",
    "        best_val_top1 = val_top1\n",
    "        name = 'best.pth'\n",
    "        torch.save(model, model_path + name)\n",
    "    if val_top5 > best_val_top5:\n",
    "        best_val_top5 = val_top5\n",
    "    if epoch % 5 == 4:\n",
    "        name = 'checkpoint_{}.pth'.format(epoch)\n",
    "        torch.save(model, model_path + name)\n",
    "    if lr_scheduler == 'plateau':\n",
    "        scheduler.step(val_loss)"
   ]
  }
 ],
 "metadata": {
  "kernelspec": {
   "display_name": "Python 3 (ipykernel)",
   "language": "python",
   "name": "python3"
  },
  "language_info": {
   "codemirror_mode": {
    "name": "ipython",
    "version": 3
   },
   "file_extension": ".py",
   "mimetype": "text/x-python",
   "name": "python",
   "nbconvert_exporter": "python",
   "pygments_lexer": "ipython3",
   "version": "3.9.13"
  }
 },
 "nbformat": 4,
 "nbformat_minor": 5
}
